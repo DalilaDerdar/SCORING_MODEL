{
 "cells": [
  {
   "cell_type": "code",
   "execution_count": 2,
   "metadata": {},
   "outputs": [],
   "source": [
    "import mlflow\n",
    "from mlflow.tracking import MlflowClient\n",
    "import mlflow.sklearn\n",
    "import numpy as np\n",
    "import pandas as pd\n",
    "from sklearn.linear_model import LogisticRegression\n",
    "from sklearn.tree import DecisionTreeClassifier\n",
    "from sklearn.ensemble import RandomForestClassifier\n",
    "from sklearn.svm import SVC\n",
    "from sklearn.model_selection import RandomizedSearchCV\n",
    "from sklearn.model_selection import train_test_split\n",
    "from sklearn.impute import SimpleImputer\n",
    "from sklearn.preprocessing import RobustScaler\n",
    "from sklearn.preprocessing import StandardScaler\n",
    "from time import time\n",
    "from sklearn.model_selection import GridSearchCV\n",
    "from sklearn.pipeline import Pipeline\n",
    "from sklearn.metrics import accuracy_score, precision_score, recall_score, f1_score, roc_auc_score, roc_curve, confusion_matrix, classification_report\n",
    "from sklearn.model_selection import cross_val_score, cross_validate, StratifiedKFold, learning_curve, validation_curve\n",
    "from sklearn.neighbors import KNeighborsClassifier\n",
    "from scipy.stats import randint\n",
    "import matplotlib.pyplot as plt\n",
    "from imblearn.pipeline import Pipeline as imbPipeline\n",
    "from imblearn.over_sampling import SMOTE\n",
    "import streamlit as st\n",
    "import joblib"
   ]
  },
  {
   "cell_type": "code",
   "execution_count": 3,
   "metadata": {},
   "outputs": [
    {
     "name": "stderr",
     "output_type": "stream",
     "text": [
      "2023-08-21 17:34:03.286 WARNING streamlit.runtime.caching.cache_data_api: No runtime found, using MemoryCacheStorageManager\n",
      "2023-08-21 17:34:03.704 \n",
      "  \u001b[33m\u001b[1mWarning:\u001b[0m to view this Streamlit app on a browser, run it with the following\n",
      "  command:\n",
      "\n",
      "    streamlit run C:\\Users\\DalilaDerdar\\AppData\\Roaming\\Python\\Python310\\site-packages\\ipykernel_launcher.py [ARGUMENTS]\n",
      "2023-08-21 17:34:03.707 No runtime found, using MemoryCacheStorageManager\n"
     ]
    }
   ],
   "source": [
    "# Charger le modèle formé\n",
    "@st.cache_data\n",
    "def load_model():\n",
    "    model = joblib.load('best_model.pkl')\n",
    "    return model\n",
    "\n",
    "# Prédire avec le modèle\n",
    "def predict(model, data):\n",
    "    y_pred_proba = model.predict_proba(data)[:, 1]\n",
    "    threshold = 0.37\n",
    "    y_pred = (y_pred_proba > threshold).astype(int)\n",
    "    return y_pred\n",
    "\n",
    "# Application principale\n",
    "def main():\n",
    "    st.title('Prêt à dépenser')\n",
    "    st.markdown('## Outil de scoring crédit')\n",
    "    st.markdown('### Prédire si un client est éligible à un prêt')\n",
    "    st.markdown('#### Par: [Dalila Derdar](https://www.linkedin.com/in/daliladerdar)')\n",
    "\n",
    "    # Charger le modèle\n",
    "    model = load_model()\n",
    "\n",
    "    # Charger les données d'échantillon pour la démo\n",
    "    sample_df = pd.read_csv('../data/sample_df.csv')\n",
    "    X_sample = sample_df.drop(columns=[\"TARGET\"])\n",
    "    \n",
    "    # Créer une sidebar\n",
    "    st.sidebar.title(\"Paramètres\")\n",
    "    index_selected = st.sidebar.selectbox(\"Choisissez le dossier client à tester en sélectionner son numéro de dossier:\", X_sample.index)\n",
    "    data_to_predict = X_sample.loc[[index_selected]]\n",
    "    \n",
    "    # Prédiction \n",
    "    pred = predict(model, data_to_predict)\n",
    "    st.write(f'La prédiction pour l\\'index {index_selected} est: {pred[0]}')\n",
    "\n",
    "if __name__ == '__main__':\n",
    "    main()\n"
   ]
  }
 ],
 "metadata": {
  "kernelspec": {
   "display_name": "Python 3",
   "language": "python",
   "name": "python3"
  },
  "language_info": {
   "codemirror_mode": {
    "name": "ipython",
    "version": 3
   },
   "file_extension": ".py",
   "mimetype": "text/x-python",
   "name": "python",
   "nbconvert_exporter": "python",
   "pygments_lexer": "ipython3",
   "version": "3.10.11"
  },
  "orig_nbformat": 4
 },
 "nbformat": 4,
 "nbformat_minor": 2
}
