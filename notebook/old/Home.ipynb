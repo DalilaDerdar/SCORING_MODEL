{
 "cells": [
  {
   "cell_type": "code",
   "execution_count": 1,
   "metadata": {},
   "outputs": [],
   "source": [
    "import mlflow\n",
    "from mlflow.tracking import MlflowClient\n",
    "import mlflow.sklearn\n",
    "import numpy as np\n",
    "import pandas as pd\n",
    "from sklearn.linear_model import LogisticRegression\n",
    "from sklearn.tree import DecisionTreeClassifier\n",
    "from sklearn.ensemble import RandomForestClassifier\n",
    "from sklearn.svm import SVC\n",
    "from sklearn.model_selection import RandomizedSearchCV\n",
    "from sklearn.model_selection import train_test_split\n",
    "from sklearn.impute import SimpleImputer\n",
    "from sklearn.preprocessing import RobustScaler\n",
    "from sklearn.preprocessing import StandardScaler\n",
    "from time import time\n",
    "from sklearn.model_selection import GridSearchCV\n",
    "from sklearn.pipeline import Pipeline\n",
    "from sklearn.metrics import accuracy_score, precision_score, recall_score, f1_score, roc_auc_score, roc_curve, confusion_matrix, classification_report\n",
    "from sklearn.model_selection import cross_val_score, cross_validate, StratifiedKFold, learning_curve, validation_curve\n",
    "from sklearn.neighbors import KNeighborsClassifier\n",
    "from scipy.stats import randint\n",
    "import matplotlib.pyplot as plt\n",
    "from imblearn.pipeline import Pipeline as imbPipeline\n",
    "from imblearn.over_sampling import SMOTE\n",
    "import streamlit as st\n",
    "import joblib"
   ]
  },
  {
   "cell_type": "code",
   "execution_count": 2,
   "metadata": {},
   "outputs": [],
   "source": [
    "def main():\n",
    "    st.header(\"Home\")\n",
    "    st.title(\"PRET A DEPENSER\")\n",
    "    st.markdown(\"## **Outil de décision d’octroi de crédit**\")\n",
    "    st.markdown(\"### **Présentation**\")\n",
    "    st.write(\"\"\" Cette application est un outil de décision d’octroi de crédit. Il vous aidera dans votre analyse du dossier client dans le cadre \n",
    "             d’une demande de prêt. Il vous permettra de définir si oui ou non votre client est éligible à un prêt. \n",
    "             Cet outil vous donnera également des informations sur le ou les facteurs qui ont permis d’aboutir à cette décision.\n",
    "              Ces éléments ainsi que les explications qui suivent pourront être partagés avec votre client pour plus de transparence.\"\"\")\n",
    "    \n",
    "    st.markdown(\"### **Comment fonctionne-t-il?**\")\n",
    "    st.write(\"\"\"L’outil de décision d'octroi de crédit est basé sur un modèle de machine learning. \n",
    "             Nous avons conçu un système d’IA qui analyse différentes informations que le client a accepté de partager avec nous. \n",
    "             Cette analyse permet de prédire sa capacité à rembourser son crédit en détectant des facteurs clefs plus faibles \n",
    "             dans son dossier que dans d’autres dossiers clients qui remboursent leur crédit.\"\"\")\n",
    "    \n",
    "    st.markdown(\"### **Comment utiliser l’outil?**\")\n",
    "    st.write(\"\"\"A la fin de cette explication, cliquez sur le bouton ‘Démarrer l’analyse’.\n",
    "                Etape 1\n",
    "                Choisissez le dossier client à analyser dans le menu déroulant\n",
    "                Etape 2 \n",
    "                Lisez le résultat de l’analyse. \n",
    "                Etape 3 \n",
    "                Lisez ensuite les éléments du dossier client qui ont permis d’aboutir au résultat d’obtention ou non obtention du prêt. \n",
    "                Partagez la décision et ces éléments avec votre client. N’hésitez pas à lui partager les graphiques.\"\"\")\n",
    "\n",
    "    if __name__ == '__main__':\n",
    "        main()"
   ]
  }
 ],
 "metadata": {
  "kernelspec": {
   "display_name": "Python 3",
   "language": "python",
   "name": "python3"
  },
  "language_info": {
   "codemirror_mode": {
    "name": "ipython",
    "version": 3
   },
   "file_extension": ".py",
   "mimetype": "text/x-python",
   "name": "python",
   "nbconvert_exporter": "python",
   "pygments_lexer": "ipython3",
   "version": "3.10.11"
  },
  "orig_nbformat": 4
 },
 "nbformat": 4,
 "nbformat_minor": 2
}
